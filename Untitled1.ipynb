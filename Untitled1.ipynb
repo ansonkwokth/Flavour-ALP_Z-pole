{
 "cells": [
  {
   "cell_type": "code",
   "execution_count": 549,
   "id": "43184398",
   "metadata": {},
   "outputs": [],
   "source": [
    "import warnings\n",
    "warnings.filterwarnings(\"ignore\")\n",
    "import uproot\n",
    "import pandas as pd\n",
    "import numpy as np\n",
    "import matplotlib.pyplot as plt\n",
    "import xgboost as xgb\n",
    "\n",
    "import time\n",
    "\n",
    "\n",
    "# pytorch related\n",
    "import torch\n",
    "import torch.nn as nn\n",
    "import torch.functional as F\n",
    "from torch.utils import data"
   ]
  },
  {
   "cell_type": "code",
   "execution_count": 610,
   "id": "abdcc00c",
   "metadata": {},
   "outputs": [],
   "source": [
    "# read the files, and calculate the corresponding yields\n",
    "\n",
    "modes_dt = {\n",
    "            1: {'mode': f'./Lambdab_pKa/z_Lambdab_pKa_reco.root', 'yields': 1000000},\n",
    "            2: {'mode': f'./Lambdab_pKa/z_Lambdab_pKnunu_reco.root', 'yields': 1000000}\n",
    "           }\n",
    "# modes_dt = {\n",
    "#             1: {'mode': f'./Lambdac_pa/z_B_Lambdacp3pi_pa_reco.root', 'yields': 1000000},\n",
    "#             1: {'mode': f'./Lambdac_pa/z_B_Lambdacp3pi_pa_reco.root', 'yields': 1000000}\n",
    "#            }"
   ]
  },
  {
   "cell_type": "code",
   "execution_count": 611,
   "id": "24735078",
   "metadata": {},
   "outputs": [],
   "source": [
    "def load_train_test(modes_dt, size=0.5):\n",
    "    np.random.seed(99)\n",
    "    df_train = pd.DataFrame()\n",
    "    df_test = pd.DataFrame()\n",
    "    num_lt = []\n",
    "    \n",
    "    # loop over different modes\n",
    "    for i, (k, v) in enumerate(modes_dt.items()):\n",
    "        file = uproot.open(v['mode'])\n",
    "        print(\"reading: \", v['mode'])\n",
    "        df_i = pd.DataFrame(np.array(file['t']['features'].array()))\n",
    "        df_i['target'] = k    # add the target label\n",
    "        df_i['weight'] = v['yields']/len(df_i)\n",
    "#         print(k, v)\n",
    "        num_lt.append(len(df_i))\n",
    "\n",
    "        # shuffle the index for training and testing sets\n",
    "        idx = df_i.index.tolist()\n",
    "        np.random.shuffle(idx)\n",
    "        \n",
    "        # cut according to the fraction\n",
    "        cut = int(np.ceil(len(idx) * size))\n",
    "        df_train_i = df_i.loc[idx[:cut]]\n",
    "        df_test_i = df_i.loc[idx[cut:]]\n",
    "        \n",
    "        # Put to the global dataframs\n",
    "        df_train = pd.concat([df_train, df_train_i])\n",
    "        df_test = pd.concat([df_test, df_test_i])\n",
    "    \n",
    "    df_train.reset_index(drop=True, inplace=True)\n",
    "    df_test.reset_index(drop=True, inplace=True)\n",
    "    \n",
    "    print('\\ntrain size: {} ({:.2f}%); test size: {} ({:.2f}%)'.format(len(df_train), 100*len(df_train)/(len(df_train)+len(df_test)), len(df_test), 100*len(df_test)/(len(df_train)+len(df_test))))\n",
    "    print('data points per mode: ',num_lt)\n",
    "    return df_train, df_test\n",
    "\n",
    "    "
   ]
  },
  {
   "cell_type": "code",
   "execution_count": 612,
   "id": "b4e0891c",
   "metadata": {},
   "outputs": [
    {
     "name": "stdout",
     "output_type": "stream",
     "text": [
      "reading:  ./Lambdab_pKa/z_Lambdab_pKa_reco.root\n",
      "reading:  ./Lambdab_pKa/z_Lambdab_pKnunu_reco.root\n",
      "\n",
      "train size: 6868 (50.00%); test size: 6867 (50.00%)\n",
      "data points per mode:  [6926, 6809]\n"
     ]
    }
   ],
   "source": [
    "tr_te_size = 0.5\n",
    "df_train, df_test = load_train_test(modes_dt, tr_te_size)\n"
   ]
  },
  {
   "cell_type": "code",
   "execution_count": 614,
   "id": "49fe2d79",
   "metadata": {},
   "outputs": [],
   "source": [
    "# lambdab > p K a \n",
    "features = [\n",
    "            'q2', \n",
    "            'pProton', 'etaProton', 'phiProton', 'pTProton', \n",
    "            'pKaon', 'etaKaon', 'phiKaon', 'pTKaon',  \n",
    "            'pLambdab', 'etaLambdab', 'phiLambdab', 'pTLambdab',\n",
    "            'Xvertex', 'Yvertex', 'Zvertex'\n",
    "           ]\n",
    "\n",
    "# Lambda_c > p a\n",
    "# features = [\n",
    "# #             'q2', \n",
    "#             'pProton1', 'etaProton1', 'phiProton1', 'pTProton1', \n",
    "#             'pProton2', 'etaProton2', 'phiProton2', 'pTProton2',\n",
    "#             'pPion1', 'etaPion1', 'phiPion1', 'pTPion1',\n",
    "#             'pPion2', 'etaPion2', 'phiPion2', 'pTPion2',\n",
    "#             'pPion3', 'etaPion3', 'phiPion3', 'pTPion3'\n",
    "#            ]\n",
    "\n",
    "in_dim = len(features)\n",
    "\n",
    "# y = 'q2True'\n",
    "y = 'q2Pull'"
   ]
  },
  {
   "cell_type": "code",
   "execution_count": 615,
   "id": "f12592e3",
   "metadata": {},
   "outputs": [],
   "source": [
    "df_train['q2Pull'] = df_train['q2True'] / df_train['q2']\n",
    "df_test['q2Pull'] = df_test['q2True'] / df_test['q2']\n",
    "\n",
    "# df_train['q2Pull'] = np.log(df_train['q2True'] / df_train['q2'])\n",
    "# df_test['q2Pull'] = np.log(df_test['q2True'] / df_test['q2'])"
   ]
  },
  {
   "cell_type": "code",
   "execution_count": 616,
   "id": "353f6de9",
   "metadata": {},
   "outputs": [],
   "source": [
    "df_train = df_train[~df_train[y].isnull()]\n",
    "df_test = df_test[~df_test[y].isnull()]\n",
    "\n",
    "df_train = df_train[~df_train['q2'].isnull()]\n",
    "df_test = df_test[~df_test['q2'].isnull()]"
   ]
  },
  {
   "cell_type": "code",
   "execution_count": null,
   "id": "855f9abe",
   "metadata": {},
   "outputs": [],
   "source": []
  },
  {
   "cell_type": "code",
   "execution_count": 617,
   "id": "700cf666",
   "metadata": {},
   "outputs": [
    {
     "data": {
      "image/png": "[encoded data removed]",
      "text/plain": [
       "<Figure size 432x288 with 1 Axes>"
      ]
     },
     "metadata": {
      "needs_background": "light"
     },
     "output_type": "display_data"
    }
   ],
   "source": [
    "plt.hist(df_train[df_train.target==1]['q2True'], density=True, bins=50, range=[-2, 17], histtype='step');\n",
    "plt.hist(df_train[df_train.target==2]['q2True'], density=True, bins=50, range=[-2, 17], histtype='step');"
   ]
  },
  {
   "cell_type": "code",
   "execution_count": 618,
   "id": "ddf594d9",
   "metadata": {},
   "outputs": [
    {
     "data": {
      "image/png": "[encoded data removed]",
      "text/plain": [
       "<Figure size 432x288 with 1 Axes>"
      ]
     },
     "metadata": {
      "needs_background": "light"
     },
     "output_type": "display_data"
    }
   ],
   "source": [
    "plt.hist(df_train[df_train.target==1]['q2'], density=True, bins=50, range=[-2, 17], histtype='step');\n",
    "plt.hist(df_train[df_train.target==2]['q2'], density=True, bins=50, range=[-2, 17], histtype='step');"
   ]
  },
  {
   "cell_type": "code",
   "execution_count": null,
   "id": "65763043",
   "metadata": {},
   "outputs": [],
   "source": []
  },
  {
   "cell_type": "code",
   "execution_count": 619,
   "id": "99a791c2",
   "metadata": {},
   "outputs": [
    {
     "data": {
      "text/plain": [
       "(6867, 16)"
      ]
     },
     "execution_count": 619,
     "metadata": {},
     "output_type": "execute_result"
    }
   ],
   "source": [
    "X = df_train[features].to_numpy()\n",
    "X.shape"
   ]
  },
  {
   "cell_type": "code",
   "execution_count": 620,
   "id": "0346fa5f",
   "metadata": {},
   "outputs": [],
   "source": [
    "# build your model here\n",
    "class fcn_model(nn.Module):\n",
    "    def __init__(self, in_dim):\n",
    "        super(fcn_model, self).__init__()\n",
    "        self.fc1 = nn.Linear(in_dim, 32)\n",
    "        self.fc2 = nn.Linear(32, 16)\n",
    "        # self.fc2_1 = nn.Linear(16, 16)\n",
    "        # self.fc2_2 = nn.Linear(16, 16)\n",
    "        # self.fc2_3 = nn.Linear(16, 16)\n",
    "        self.fc3 = nn.Linear(16, 1)\n",
    "        self.relu = nn.ReLU(inplace=True)\n",
    "        \n",
    "    def forward(self, x) :\n",
    "        x = self.relu(self.fc1(x))\n",
    "        x = self.relu(self.fc2(x))\n",
    "        out = self.relu(self.fc3(x))\n",
    "        # x = self.relu(self.fc2_1(x))\n",
    "#         x = self.relu(self.fc2_2(x))\n",
    "#         x = self.relu(self.fc2_3(x))\n",
    "#         out = self.fc_null(x)\n",
    "#         print(out - x)\n",
    "        return out"
   ]
  },
  {
   "cell_type": "code",
   "execution_count": null,
   "id": "dfdf6553",
   "metadata": {},
   "outputs": [],
   "source": []
  },
  {
   "cell_type": "code",
   "execution_count": 621,
   "id": "04cbecca",
   "metadata": {},
   "outputs": [],
   "source": [
    "\n",
    "model = fcn_model(in_dim=in_dim)"
   ]
  },
  {
   "cell_type": "code",
   "execution_count": 622,
   "id": "ef3b614b",
   "metadata": {},
   "outputs": [
    {
     "data": {
      "text/plain": [
       "tensor(24.0782, grad_fn=<MseLossBackward0>)"
      ]
     },
     "execution_count": 622,
     "metadata": {},
     "output_type": "execute_result"
    }
   ],
   "source": [
    "nn.MSELoss()(model(torch.from_numpy(df_test[features].to_numpy()).float()), torch.from_numpy(df_test[y].to_numpy().reshape(-1,1)).float())"
   ]
  },
  {
   "cell_type": "code",
   "execution_count": 623,
   "id": "9a4a0e62",
   "metadata": {},
   "outputs": [
    {
     "data": {
      "text/plain": [
       "tensor(175.5536)"
      ]
     },
     "execution_count": 623,
     "metadata": {},
     "output_type": "execute_result"
    }
   ],
   "source": [
    "nn.MSELoss()((torch.from_numpy(df_test[features].to_numpy()).float()), torch.from_numpy(df_test[y].to_numpy().reshape(-1,1)).float())"
   ]
  },
  {
   "cell_type": "code",
   "execution_count": 624,
   "id": "3b4573ae",
   "metadata": {},
   "outputs": [],
   "source": [
    "# build a data loader \n",
    "class MyDataset(data.Dataset):\n",
    "    def __init__(self, X, label):\n",
    "        self.X = torch.from_numpy(X).float()\n",
    "        self.label = torch.from_numpy(label).float()\n",
    "    \n",
    "    def __getitem__(self, index):\n",
    "        x = self.X[index]\n",
    "        y = self.label[index]\n",
    "        return x, y\n",
    "    \n",
    "    def __len__(self):\n",
    "        return len(self.X)\n",
    "    \n",
    "\n",
    "def get_dataloader(X, label, batch_size, test_size=0.2):    \n",
    "    # shuffle data\n",
    "    idx = np.arange(len(X))\n",
    "    np.random.shuffle(idx)\n",
    "    X, label = X[idx], label[idx]\n",
    "    \n",
    "    # divide data for train and validation\n",
    "    nb_train = int((1-test_size)*len(X))\n",
    "    trainset = MyDataset(X[:nb_train], label[:nb_train])\n",
    "    testset = MyDataset(X[nb_train:], label[nb_train:])\n",
    "    \n",
    "    dataloaders = {\n",
    "        'train': data.DataLoader(trainset, batch_size=batch_size, shuffle=True), \n",
    "        'val': data.DataLoader(testset, batch_size=batch_size, shuffle=True)\n",
    "    }\n",
    "    return dataloaders"
   ]
  },
  {
   "cell_type": "code",
   "execution_count": 625,
   "id": "9c7bca93",
   "metadata": {},
   "outputs": [],
   "source": [
    "# build a function to train and val your model\n",
    "def train_model(model, dataloaders, criterion, optimizer, num_epochs, device):\n",
    "    since = time.time()\n",
    "    \n",
    "    # a dictionary to record histroy of training\n",
    "    history = {'loss':[], 'val_loss':[], 'acc':[], 'val_acc':[]}\n",
    "    \n",
    "    model = model.to(device)\n",
    "    step_show = 50 ## each i*step_show print current loss\n",
    "    for epoch in range(num_epochs):\n",
    "        if epoch % step_show==0:\n",
    "            print('Epoch {0}/{1}'.format(epoch, num_epochs-1))\n",
    "            \n",
    "        # =====================================\n",
    "        # =============== train ===============\n",
    "        # =====================================\n",
    "        model.train()\n",
    "        running_loss, running_corrects = 0.0, 0.0\n",
    "        for i, (inputs, target) in enumerate(dataloaders['train']):\n",
    "#             print(model.state_dict())\n",
    "            # put inputs and target to device \n",
    "            inputs = inputs.to(device).float()\n",
    "            target = target.to(device).float()\n",
    "            \n",
    "            # get outputs from the model and compute loss with respect to loss function \n",
    "            optimizer.zero_grad()\n",
    "            outputs = model(inputs)\n",
    "#             print((outputs-inputs)[:4])\n",
    "#             print((outputs-target)[:4])\n",
    "\n",
    "#             loss = criterion(inputs, target)\n",
    "#             print(loss)\n",
    "            \n",
    "#             loss = criterion(outputs, inputs)\n",
    "#             print(loss)\n",
    "            \n",
    "            loss = criterion(outputs, target)\n",
    "#             print(loss)\n",
    "#             print()\n",
    "            \n",
    "            # back prop\n",
    "            loss.backward()\n",
    "            optimizer.step()\n",
    "\n",
    "\n",
    "            # compute loss and corrects of prediction in each batch of data\n",
    "            running_loss += loss.item() * inputs.size(0)\n",
    "#             running_corrects += torch.sum((outputs+.5).int().t()==target.data.int().t())\n",
    "            \n",
    "        # record loss and corrects of prediction at each epoch\n",
    "        epoch_loss = running_loss / len(dataloaders['train'].dataset)\n",
    "#         epoch_corrects = running_corrects.double() / len(dataloaders['train'].dataset)\n",
    "        history['loss'].append(epoch_loss)\n",
    "#         history['acc'].append(epoch_corrects)\n",
    "        \n",
    "\n",
    "        \n",
    "        #validate \n",
    "        # =====================================\n",
    "        # ============== validate =============\n",
    "        # =====================================\n",
    "        model.eval() #set the module in evaluation mode (eg. Dropout, batchnorm)\n",
    "        val_running_loss, val_running_corrects = 0.0, 0.0\n",
    "        for i, (inputs, target) in enumerate(dataloaders['val']):\n",
    "            inputs = inputs.to(device).float()\n",
    "            target = target.to(device).float()\n",
    "            outputs = model(inputs)\n",
    "#             print(outputs.type())\n",
    "            loss = criterion(outputs, target)\n",
    "            \n",
    "            val_running_loss += loss.item() * inputs.size(0)\n",
    "#             val_running_corrects += torch.sum((outputs+.5).int().t()==target.data.int().t())\n",
    "            \n",
    "        val_epoch_loss = val_running_loss / len(dataloaders['val'].dataset)\n",
    "#         val_epoch_corrects = val_running_corrects.double() / len(dataloaders['val'].dataset)\n",
    "        history['val_loss'].append(val_epoch_loss)\n",
    "#         history['val_acc'].append(val_epoch_corrects)\n",
    "        \n",
    "        # print epoch loss and corrects if its a step to print\n",
    "        if epoch % step_show==0:\n",
    "            print('Epoch Loss: {0:.6f}'\n",
    "                  .format(epoch_loss))\n",
    "            print('-'*10)\n",
    "            \n",
    "    # print total time for training\n",
    "    time_elapsed = time.time() - since\n",
    "    print('Training complete in {:.0f}m {:.0f}s'.format(time_elapsed // 60, time_elapsed % 60))\n",
    "    \n",
    "    return model, history"
   ]
  },
  {
   "cell_type": "code",
   "execution_count": 626,
   "id": "813b3293",
   "metadata": {},
   "outputs": [
    {
     "name": "stdout",
     "output_type": "stream",
     "text": [
      "Epoch 0/499\n",
      "Epoch Loss: 1.156611\n",
      "----------\n",
      "Epoch 50/499\n",
      "Epoch Loss: 0.827024\n",
      "----------\n",
      "Epoch 100/499\n",
      "Epoch Loss: 0.827497\n",
      "----------\n",
      "Epoch 150/499\n",
      "Epoch Loss: 0.824727\n",
      "----------\n",
      "Epoch 200/499\n",
      "Epoch Loss: 0.820639\n",
      "----------\n",
      "Epoch 250/499\n",
      "Epoch Loss: 0.814439\n",
      "----------\n",
      "Epoch 300/499\n",
      "Epoch Loss: 0.812799\n",
      "----------\n",
      "Epoch 350/499\n",
      "Epoch Loss: 0.815226\n",
      "----------\n",
      "Epoch 400/499\n",
      "Epoch Loss: 0.816820\n",
      "----------\n",
      "Epoch 450/499\n",
      "Epoch Loss: 0.810278\n",
      "----------\n",
      "Training complete in 0m 38s\n"
     ]
    }
   ],
   "source": [
    "# setup parameters \n",
    "batch_size = 256\n",
    "# batch_size = 5000\n",
    "num_epochs = 500\n",
    "test_size = 0.2\n",
    "\n",
    "# assert which device to compute in model\n",
    "device = torch.device(\"cpu\")\n",
    "# get your model here \n",
    "model = fcn_model(in_dim=in_dim)\n",
    "# get batched data for train and val\n",
    "dataloaders = get_dataloader(X=X, label=df_train[y].to_numpy().reshape(-1, 1), batch_size=batch_size, test_size=test_size)\n",
    "# define your loss function\n",
    "# criterion = nn.MSELoss()\n",
    "criterion = nn.L1Loss()\n",
    "# choose an optimizer to do gradient descent \n",
    "# optimizer = torch.optim.SGD(model.parameters(), lr=0.01, momentum=0.9)\n",
    "optimizer = torch.optim.Adam(model.parameters(),\n",
    "#                             lr=0.001,\n",
    "                            lr=0.01,\n",
    "                            betas=(0.9, 0.999),\n",
    "                            eps=1e-8,\n",
    "                            weight_decay=1e-5)\n",
    "\n",
    "# train your model, get trained model and history of training\n",
    "model, history = train_model(model=model, \n",
    "                             dataloaders=dataloaders, \n",
    "                             optimizer=optimizer, \n",
    "                             criterion=criterion, \n",
    "                             num_epochs=num_epochs, \n",
    "                             device=device)\n"
   ]
  },
  {
   "cell_type": "code",
   "execution_count": 627,
   "id": "9560b4fd",
   "metadata": {},
   "outputs": [
    {
     "data": {
      "text/plain": [
       "array([[1.0004401 ],\n",
       "       [0.53225577],\n",
       "       [0.10103243],\n",
       "       ...,\n",
       "       [0.98278946],\n",
       "       [0.95586836],\n",
       "       [0.9762115 ]], dtype=float32)"
      ]
     },
     "execution_count": 627,
     "metadata": {},
     "output_type": "execute_result"
    }
   ],
   "source": [
    " model(torch.from_numpy(df_test[features].to_numpy()).float()).detach().numpy()"
   ]
  },
  {
   "cell_type": "code",
   "execution_count": null,
   "id": "78d8eae8",
   "metadata": {},
   "outputs": [],
   "source": []
  },
  {
   "cell_type": "code",
   "execution_count": 628,
   "id": "27f7cd5f",
   "metadata": {},
   "outputs": [],
   "source": [
    "\n",
    "model.eval()\n",
    "# df_test['q2Pred'] = model(torch.from_numpy(df_test[features].to_numpy()).float()).detach().numpy()\n",
    "# df_train['q2Pred'] = model(torch.from_numpy(df_train[features].to_numpy()).float()).detach().numpy()\n",
    "\n",
    "df_test['q2PullPred'] = model(torch.from_numpy(df_test[features].to_numpy()).float()).detach().numpy()\n",
    "df_train['q2PullPred'] = model(torch.from_numpy(df_train[features].to_numpy()).float()).detach().numpy() \n",
    "df_test['q2Pred'] = df_test['q2PullPred'] * df_test['q2']\n",
    "df_train['q2Pred'] = df_train['q2PullPred'] * df_train['q2']\n"
   ]
  },
  {
   "cell_type": "code",
   "execution_count": null,
   "id": "6157e2bb",
   "metadata": {},
   "outputs": [],
   "source": []
  },
  {
   "cell_type": "code",
   "execution_count": 629,
   "id": "a321d199",
   "metadata": {},
   "outputs": [],
   "source": [
    "\n",
    "# f = plt.figure(figsize=(8,6))\n",
    "# ax1 = plt.subplot(111)\n",
    "\n",
    "# # range_=[-10, 10]\n",
    "# range_=[-30, 30]\n",
    "# # range_=[-5, 5]\n",
    "# # range_=[-1, 1]\n",
    "# # range_=None\n",
    "# bins_=50\n",
    "\n",
    "\n",
    "\n",
    "# ax1.hist(df_test[df_test.target==1].q2True, bins=bins_, range=range_, histtype='step', lw=3, label=r'Truth:', alpha=0.5);\n",
    "# ax1.hist(df_test[df_test.target==1].q2, bins=bins_, range=range_, histtype='step', lw=3, label=r'base: error='+str(round(np.std(df_test[(df_test.q2>range_[0]) & (df_test.q2<range_[1])]['q2']), 2)), alpha=0.5);\n",
    "# ax1.hist(df_test[df_test.target==1].q2Pred, bins=bins_, range=range_, histtype='step', lw=3, label=r'DNN: error='+str(round(np.std(df_test[(df_test.q2Pred>range_[0]) & (df_test.q2Pred<range_[1])]['q2Pred']), 2)), alpha=0.5);\n",
    "\n",
    "# # plt.title(r\"$\\Lambda_b \\to p K a$\")\n",
    "# plt.title(r\"$\\Lambda_b\\to 3\\pi p \\Lambda_c (\\to p  a)$\")\n",
    "# plt.legend()"
   ]
  },
  {
   "cell_type": "code",
   "execution_count": null,
   "id": "16dd86fe",
   "metadata": {},
   "outputs": [],
   "source": []
  },
  {
   "cell_type": "code",
   "execution_count": null,
   "id": "8fa6bb23",
   "metadata": {},
   "outputs": [],
   "source": []
  },
  {
   "cell_type": "code",
   "execution_count": 630,
   "id": "3697b94e",
   "metadata": {},
   "outputs": [
    {
     "data": {
      "text/plain": [
       "<matplotlib.legend.Legend at 0x7f6e0c04c280>"
      ]
     },
     "execution_count": 630,
     "metadata": {},
     "output_type": "execute_result"
    },
    {
     "data": {
      "image/png": "[encoded data removed]",
      "text/plain": [
       "<Figure size 576x432 with 1 Axes>"
      ]
     },
     "metadata": {
      "needs_background": "light"
     },
     "output_type": "display_data"
    }
   ],
   "source": [
    "\n",
    "f = plt.figure(figsize=(8,6))\n",
    "ax1 = plt.subplot(111)\n",
    "\n",
    "# range_=[-10, 10]\n",
    "range_=[-10, 20]\n",
    "# range_=[-5, 5]\n",
    "# range_=[-1, 1]\n",
    "# range_=None\n",
    "bins_=20\n",
    "\n",
    "\n",
    "\n",
    "ax1.hist(df_train[df_train.target==1].q2, bins=bins_, range=range_, histtype='step', lw=3, label=r'base', alpha=0.5);\n",
    "ax1.hist(df_train[df_train.target==1].q2Pred, bins=bins_, range=range_, histtype='step', lw=3, label=r'DNN', alpha=0.5);\n",
    "ax1.hist(df_train[df_train.target==1].q2True, bins=bins_, range=range_, histtype='step', lw=3, label=r'Truth:', alpha=0.5);\n",
    "\n",
    "plt.title(r\"$\\Lambda_b \\to p K a$\")\n",
    "# plt.title(r\"$\\Lambda_b\\to 3\\pi p \\Lambda_c (\\to p  a)$\")\n",
    "\n",
    "plt.xlabel(r'$q^2$')\n",
    "plt.legend()"
   ]
  },
  {
   "cell_type": "code",
   "execution_count": 631,
   "id": "a497e4fd",
   "metadata": {},
   "outputs": [
    {
     "data": {
      "text/plain": [
       "<matplotlib.legend.Legend at 0x7f6e0c05a670>"
      ]
     },
     "execution_count": 631,
     "metadata": {},
     "output_type": "execute_result"
    },
    {
     "data": {
      "image/png": "[encoded data removed]",
      "text/plain": [
       "<Figure size 576x432 with 1 Axes>"
      ]
     },
     "metadata": {
      "needs_background": "light"
     },
     "output_type": "display_data"
    }
   ],
   "source": [
    "\n",
    "f = plt.figure(figsize=(8,6))\n",
    "ax1 = plt.subplot(111)\n",
    "\n",
    "# range_=[-10, 10]\n",
    "range_=[-10, 20]\n",
    "# range_=[-5, 5]\n",
    "# range_=[-1, 1]\n",
    "# range_=None\n",
    "bins_=20\n",
    "\n",
    "\n",
    "\n",
    "ax1.hist(df_test[df_test.target==1].q2, bins=bins_, range=range_, histtype='step', lw=3, label=r'base', alpha=0.5);\n",
    "ax1.hist(df_test[df_test.target==1].q2Pred, bins=bins_, range=range_, histtype='step', lw=3, label=r'DNN', alpha=0.5);\n",
    "ax1.hist(df_test[df_test.target==1].q2True, bins=bins_, range=range_, histtype='step', lw=3, label=r'Truth:', alpha=0.5);\n",
    "\n",
    "plt.title(r\"$\\Lambda_b \\to p K a$\")\n",
    "# plt.title(r\"$\\Lambda_b\\to 3\\pi p \\Lambda_c (\\to p  a)$\")\n",
    "\n",
    "plt.xlabel(r'$q^2$')\n",
    "plt.legend()"
   ]
  },
  {
   "cell_type": "code",
   "execution_count": null,
   "id": "19993184",
   "metadata": {},
   "outputs": [],
   "source": []
  },
  {
   "cell_type": "code",
   "execution_count": 632,
   "id": "71d2dff8",
   "metadata": {},
   "outputs": [
    {
     "data": {
      "text/plain": [
       "<matplotlib.legend.Legend at 0x7f6e07baa520>"
      ]
     },
     "execution_count": 632,
     "metadata": {},
     "output_type": "execute_result"
    },
    {
     "data": {
      "image/png": "[encoded data removed]",
      "text/plain": [
       "<Figure size 576x432 with 1 Axes>"
      ]
     },
     "metadata": {
      "needs_background": "light"
     },
     "output_type": "display_data"
    }
   ],
   "source": [
    "\n",
    "f = plt.figure(figsize=(8,6))\n",
    "ax1 = plt.subplot(111)\n",
    "\n",
    "# range_=[-10, 10]\n",
    "# range_=[-10, 20]\n",
    "range_=[-5, 5]\n",
    "# range_=[-1, 1]\n",
    "# range_=None\n",
    "bins_=20\n",
    "\n",
    "\n",
    "\n",
    "# ax1.hist(df_train[df_train.target==1].q2True, bins=bins_, range=range_, histtype='step', lw=3, label=r'Truth:', alpha=0.5);\n",
    "ax1.hist(df_train[df_train.target==1].q2 - df_train[df_train.target==1].q2True, bins=bins_, range=range_, histtype='step', lw=3, label=r'base', alpha=0.5);\n",
    "ax1.hist(df_train[df_train.target==1].q2Pred - df_train[df_train.target==1].q2True, bins=bins_, range=range_, histtype='step', lw=3, label=r'DNN', alpha=0.5);\n",
    "\n",
    "plt.title(r\"$\\Lambda_b \\to p K a$\")\n",
    "# plt.title(r\"$\\Lambda_b\\to 3\\pi p \\Lambda_c (\\to p  a)$\")\n",
    "plt.xlabel(r'Error in $q^2$')\n",
    "plt.legend()"
   ]
  },
  {
   "cell_type": "code",
   "execution_count": null,
   "id": "026525c8",
   "metadata": {},
   "outputs": [],
   "source": []
  },
  {
   "cell_type": "code",
   "execution_count": 639,
   "id": "e75db6b4",
   "metadata": {},
   "outputs": [
    {
     "data": {
      "text/plain": [
       "<matplotlib.legend.Legend at 0x7f6e07a919d0>"
      ]
     },
     "execution_count": 639,
     "metadata": {},
     "output_type": "execute_result"
    },
    {
     "data": {
      "image/png": "[encoded data removed]",
      "text/plain": [
       "<Figure size 576x432 with 1 Axes>"
      ]
     },
     "metadata": {
      "needs_background": "light"
     },
     "output_type": "display_data"
    }
   ],
   "source": [
    "\n",
    "f = plt.figure(figsize=(8,6))\n",
    "ax1 = plt.subplot(111)\n",
    "\n",
    "# range_=[-10, 10]\n",
    "# range_=[-10, 20]\n",
    "# range_=[-5, 5]\n",
    "range_=[-3, 3]\n",
    "# range_=None\n",
    "bins_=30\n",
    "\n",
    "\n",
    "\n",
    "# ax1.hist(df_test[df_test.target==1].q2True, bins=bins_, range=range_, histtype='step', lw=3, label=r'Truth:', alpha=0.5);\n",
    "ax1.hist(df_test[df_test.target==1].q2 - df_test[df_test.target==1].q2True, bins=bins_, range=range_, histtype='step', lw=3, label=r'base: sd='+str(round(np.std(df_test[df_test.target==1].q2 - df_test[df_test.target==1].q2True),2)), alpha=0.5);\n",
    "ax1.hist(df_test[df_test.target==1].q2Pred - df_test[df_test.target==1].q2True, bins=bins_, range=range_, histtype='step', lw=3, label=r'DNN: sd='+str(round(np.std(df_test[df_test.target==1].q2Pred - df_test[df_test.target==1].q2True),2)), alpha=0.5);\n",
    "\n",
    "plt.title(r\"$\\Lambda_b \\to p K a$\")\n",
    "# plt.title(r\"$\\Lambda_b\\to 3\\pi p \\Lambda_c (\\to p  a)$\")\n",
    "plt.xlabel(r'Error in $q^2$')\n",
    "plt.legend()"
   ]
  },
  {
   "cell_type": "code",
   "execution_count": 640,
   "id": "4ceb81e6",
   "metadata": {},
   "outputs": [
    {
     "data": {
      "text/plain": [
       "<matplotlib.legend.Legend at 0x7f6e079dd430>"
      ]
     },
     "execution_count": 640,
     "metadata": {},
     "output_type": "execute_result"
    },
    {
     "data": {
      "image/png": "[encoded data removed]",
      "text/plain": [
       "<Figure size 576x432 with 1 Axes>"
      ]
     },
     "metadata": {
      "needs_background": "light"
     },
     "output_type": "display_data"
    }
   ],
   "source": [
    "\n",
    "f = plt.figure(figsize=(8,6))\n",
    "ax1 = plt.subplot(111)\n",
    "\n",
    "# range_=[-10, 10]\n",
    "# range_=[-10, 20]\n",
    "# range_=[-5, 5]\n",
    "range_=[-3, 3]\n",
    "# range_=None\n",
    "bins_=30\n",
    "\n",
    "\n",
    "\n",
    "# ax1.hist(df_test[df_test.target==2].q2True, bins=bins_, range=range_, histtype='step', lw=3, label=r'Truth:', alpha=0.5);\n",
    "ax1.hist(df_test[df_test.target==2].q2 - df_test[df_test.target==2].q2True, bins=bins_, range=range_, histtype='step', lw=3, label=r'base: sd='+str(round(np.std(df_test[df_test.target==2].q2 - df_test[df_test.target==2].q2True),2)), alpha=0.5);\n",
    "ax1.hist(df_test[df_test.target==2].q2Pred - df_test[df_test.target==2].q2True, bins=bins_, range=range_, histtype='step', lw=3, label=r'DNN: sd='+str(round(np.std(df_test[df_test.target==2].q2Pred - df_test[df_test.target==2].q2True),2)), alpha=0.5);\n",
    "\n",
    "plt.axvline(0)\n",
    "plt.title(r\"$\\Lambda_b \\to p K a$\")\n",
    "# plt.title(r\"$\\Lambda_b\\to 3\\pi p \\Lambda_c (\\to p  a)$\")\n",
    "plt.xlabel(r'Error in $q^2$')\n",
    "plt.legend()"
   ]
  },
  {
   "cell_type": "code",
   "execution_count": 641,
   "id": "3820f166",
   "metadata": {},
   "outputs": [
    {
     "name": "stdout",
     "output_type": "stream",
     "text": [
      "-0.1319316029548645\n"
     ]
    }
   ],
   "source": [
    "print(np.mean(df_test[df_test.target==2].q2Pred - df_test[df_test.target==2].q2True))"
   ]
  },
  {
   "cell_type": "code",
   "execution_count": 642,
   "id": "55b33b71",
   "metadata": {},
   "outputs": [
    {
     "name": "stdout",
     "output_type": "stream",
     "text": [
      "-0.08772115409374237\n"
     ]
    }
   ],
   "source": [
    "print(np.mean(df_test[df_test.target==2].q2 - df_test[df_test.target==2].q2True))"
   ]
  },
  {
   "cell_type": "code",
   "execution_count": 637,
   "id": "ae5ef96a",
   "metadata": {},
   "outputs": [
    {
     "data": {
      "text/plain": [
       "array([[2.6005456],\n",
       "       [2.0964832],\n",
       "       [5.597203 ],\n",
       "       ...,\n",
       "       [2.712015 ],\n",
       "       [3.4260938],\n",
       "       [1.3770318]], dtype=float32)"
      ]
     },
     "execution_count": 637,
     "metadata": {},
     "output_type": "execute_result"
    }
   ],
   "source": [
    "a_out"
   ]
  },
  {
   "cell_type": "code",
   "execution_count": null,
   "id": "d7bebd46",
   "metadata": {},
   "outputs": [],
   "source": []
  },
  {
   "cell_type": "code",
   "execution_count": null,
   "id": "59061764",
   "metadata": {},
   "outputs": [],
   "source": []
  },
  {
   "cell_type": "code",
   "execution_count": 638,
   "id": "eaac7929",
   "metadata": {},
   "outputs": [
    {
     "data": {
      "text/plain": [
       "<matplotlib.legend.Legend at 0x7f6e07a79880>"
      ]
     },
     "execution_count": 638,
     "metadata": {},
     "output_type": "execute_result"
    },
    {
     "data": {
      "image/png": "[encoded data removed]",
      "text/plain": [
       "<Figure size 576x432 with 1 Axes>"
      ]
     },
     "metadata": {
      "needs_background": "light"
     },
     "output_type": "display_data"
    }
   ],
   "source": [
    "\n",
    "f = plt.figure(figsize=(8,6))\n",
    "ax1 = plt.subplot(111)\n",
    "\n",
    "# range_=[-10, 10]\n",
    "# range_=[-10, 20]\n",
    "# range_=[-5, 5]\n",
    "range_=[-3, 3]\n",
    "# range_=None\n",
    "bins_=30\n",
    "\n",
    "\n",
    "\n",
    "# ax1.hist(df_test[df_test.target==1].q2True, bins=bins_, range=range_, histtype='step', lw=3, label=r'Truth:', alpha=0.5);\n",
    "ax1.hist(df_test[df_test.target==1].q2 - df_test[df_test.target==1].q2True, bins=bins_, range=range_, histtype='step', lw=3, label=r'base: sd='+str(round(np.std(df_test[df_test.target==1].q2 - df_test[df_test.target==1].q2True),2)), alpha=0.5);\n",
    "ax1.hist(df_test[df_test.target==1].q2Pred - df_test[df_test.target==1].q2True, bins=bins_, range=range_, histtype='step', lw=3, label=r'DNN: sd='+str(round(np.std(df_test[df_test.target==1].q2Pred - df_test[df_test.target==1].q2True),2)), alpha=0.5);\n",
    "\n",
    "plt.title(r\"$\\Lambda_b \\to p K a$\")\n",
    "# plt.title(r\"$\\Lambda_b\\to 3\\pi p \\Lambda_c (\\to p  a)$\")\n",
    "plt.xlabel(r'Error in $q^2$')\n",
    "plt.legend()"
   ]
  },
  {
   "cell_type": "code",
   "execution_count": null,
   "id": "0e8eccdc",
   "metadata": {},
   "outputs": [],
   "source": []
  },
  {
   "cell_type": "code",
   "execution_count": null,
   "id": "4ad341e6",
   "metadata": {},
   "outputs": [],
   "source": []
  },
  {
   "cell_type": "code",
   "execution_count": null,
   "id": "a1e7a7d0",
   "metadata": {},
   "outputs": [],
   "source": []
  },
  {
   "cell_type": "code",
   "execution_count": null,
   "id": "872f8398",
   "metadata": {},
   "outputs": [],
   "source": []
  }
 ],
 "metadata": {
  "kernelspec": {
   "display_name": "Python 3 (ipykernel)",
   "language": "python",
   "name": "python3"
  },
  "language_info": {
   "codemirror_mode": {
    "name": "ipython",
    "version": 3
   },
   "file_extension": ".py",
   "mimetype": "text/x-python",
   "name": "python",
   "nbconvert_exporter": "python",
   "pygments_lexer": "ipython3",
   "version": "3.9.12"
  }
 },
 "nbformat": 4,
 "nbformat_minor": 5
}
