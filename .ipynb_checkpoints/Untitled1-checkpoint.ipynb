{
 "cells": [
  {
   "cell_type": "code",
   "execution_count": 295,
   "id": "43184398",
   "metadata": {},
   "outputs": [],
   "source": [
    "import warnings\n",
    "warnings.filterwarnings(\"ignore\")\n",
    "import uproot\n",
    "import pandas as pd\n",
    "import numpy as np\n",
    "import matplotlib.pyplot as plt\n",
    "import xgboost as xgb\n",
    "\n",
    "import time\n",
    "\n",
    "\n",
    "# pytorch related\n",
    "import torch\n",
    "import torch.nn as nn\n",
    "import torch.functional as F\n",
    "from torch.utils import data"
   ]
  },
  {
   "cell_type": "code",
   "execution_count": 313,
   "id": "abdcc00c",
   "metadata": {},
   "outputs": [],
   "source": [
    "# read the files, and calculate the corresponding yields\n",
    "\n",
    "modes_dt = {\n",
    "#             1: {'mode': f'./Lambdab_ppia/z_Lambdab_pKa_reco.root', 'yields': 1000000},\n",
    "#             2: {'mode': f'./Lambdac_pa/z_B_Lambdacp3pi_pa_reco.root', 'yields': 1000000}\n",
    "           }\n",
    "modes_dt = {\n",
    "            1: {'mode': f'./Lambdac_pa/z_B_Lambdacp3pi_pa_reco.root', 'yields': 1000000}\n",
    "           }"
   ]
  },
  {
   "cell_type": "code",
   "execution_count": 314,
   "id": "24735078",
   "metadata": {},
   "outputs": [],
   "source": [
    "def load_train_test(modes_dt, size=0.5):\n",
    "    np.random.seed(9)\n",
    "    df_train = pd.DataFrame()\n",
    "    df_test = pd.DataFrame()\n",
    "    num_lt = []\n",
    "    \n",
    "    # loop over different modes\n",
    "    for i, (k, v) in enumerate(modes_dt.items()):\n",
    "        file = uproot.open(v['mode'])\n",
    "        print(\"reading: \", v['mode'])\n",
    "        df_i = pd.DataFrame(np.array(file['t']['features'].array()))\n",
    "        df_i['target'] = k    # add the target label\n",
    "        df_i['weight'] = v['yields']/len(df_i)\n",
    "#         print(k, v)\n",
    "        num_lt.append(len(df_i))\n",
    "\n",
    "        # shuffle the index for training and testing sets\n",
    "        idx = df_i.index.tolist()\n",
    "        np.random.shuffle(idx)\n",
    "        \n",
    "        # cut according to the fraction\n",
    "        cut = int(np.ceil(len(idx) * size))\n",
    "        df_train_i = df_i.loc[idx[:cut]]\n",
    "        df_test_i = df_i.loc[idx[cut:]]\n",
    "        \n",
    "        # Put to the global dataframs\n",
    "        df_train = pd.concat([df_train, df_train_i])\n",
    "        df_test = pd.concat([df_test, df_test_i])\n",
    "    \n",
    "    df_train.reset_index(drop=True, inplace=True)\n",
    "    df_test.reset_index(drop=True, inplace=True)\n",
    "    \n",
    "    print('\\ntrain size: {} ({:.2f}%); test size: {} ({:.2f}%)'.format(len(df_train), 100*len(df_train)/(len(df_train)+len(df_test)), len(df_test), 100*len(df_test)/(len(df_train)+len(df_test))))\n",
    "    print('data points per mode: ',num_lt)\n",
    "    return df_train, df_test\n",
    "\n",
    "    "
   ]
  },
  {
   "cell_type": "code",
   "execution_count": 315,
   "id": "b4e0891c",
   "metadata": {},
   "outputs": [
    {
     "name": "stdout",
     "output_type": "stream",
     "text": [
      "reading:  ./Lambdac_pa/z_B_Lambdacp3pi_pa_reco.root\n",
      "\n",
      "train size: 2646 (50.01%); test size: 2645 (49.99%)\n",
      "data points per mode:  [5291]\n"
     ]
    }
   ],
   "source": [
    "tr_te_size = 0.5\n",
    "df_train, df_test = load_train_test(modes_dt, tr_te_size)\n"
   ]
  },
  {
   "cell_type": "code",
   "execution_count": null,
   "id": "b5786a05",
   "metadata": {},
   "outputs": [],
   "source": []
  },
  {
   "cell_type": "code",
   "execution_count": null,
   "id": "35ffc577",
   "metadata": {},
   "outputs": [],
   "source": []
  },
  {
   "cell_type": "code",
   "execution_count": 316,
   "id": "855f9abe",
   "metadata": {},
   "outputs": [],
   "source": [
    "df_train['q2Pull'] = df_train['q2True'] / df_train['q2']\n",
    "df_test['q2Pull'] = df_test['q2True'] / df_test['q2']"
   ]
  },
  {
   "cell_type": "code",
   "execution_count": null,
   "id": "700cf666",
   "metadata": {},
   "outputs": [],
   "source": []
  },
  {
   "cell_type": "code",
   "execution_count": 319,
   "id": "ddf594d9",
   "metadata": {},
   "outputs": [],
   "source": [
    "# lambdab > p K a \n",
    "features = [\n",
    "#             'q2', \n",
    "            'pProton', 'etaProton', 'phiProton', 'pTProton', \n",
    "            'pKaon', 'etaKaon', 'phiKaon', 'pTKaon'\n",
    "           ]\n",
    "\n",
    "# Lambda_c > p a\n",
    "features = [\n",
    "#             'q2', \n",
    "            'pProton1', 'etaProton1', 'phiProton1', 'pTProton1', \n",
    "            'pProton2', 'etaProton2', 'phiProton2', 'pTProton2',\n",
    "            'pPion1', 'etaPion1', 'phiPion1', 'pTPion1',\n",
    "            'pPion2', 'etaPion2', 'phiPion2', 'pTPion2',\n",
    "            'pPion3', 'etaPion3', 'phiPion3', 'pTPion3'\n",
    "           ]\n",
    "\n",
    "in_dim = len(features)\n",
    "\n",
    "# y = 'q2True'\n",
    "y = 'q2Pull'"
   ]
  },
  {
   "cell_type": "code",
   "execution_count": 320,
   "id": "99a791c2",
   "metadata": {},
   "outputs": [],
   "source": [
    "X = df_train[features].to_numpy()"
   ]
  },
  {
   "cell_type": "code",
   "execution_count": null,
   "id": "5f1d75cc",
   "metadata": {},
   "outputs": [],
   "source": []
  },
  {
   "cell_type": "code",
   "execution_count": 321,
   "id": "0346fa5f",
   "metadata": {},
   "outputs": [],
   "source": [
    "# build your model here\n",
    "class fcn_model(nn.Module):\n",
    "    def __init__(self, in_dim):\n",
    "        super(fcn_model, self).__init__()\n",
    "        self.fc1 = nn.Linear(in_dim, 32)\n",
    "        self.fc2 = nn.Linear(32, 16)\n",
    "        # self.fc2_1 = nn.Linear(16, 16)\n",
    "        # self.fc2_2 = nn.Linear(16, 16)\n",
    "        # self.fc2_3 = nn.Linear(16, 16)\n",
    "        self.fc3 = nn.Linear(16, 1)\n",
    "        self.relu = nn.ReLU(inplace=True)\n",
    "        \n",
    "    def forward(self, x) :\n",
    "        x = self.relu(self.fc1(x))\n",
    "        x = self.relu(self.fc2(x))\n",
    "        # x = self.relu(self.fc2_1(x))\n",
    "        # x = self.relu(self.fc2_2(x))\n",
    "        # x = self.relu(self.fc2_3(x))\n",
    "        out = self.fc3(x)\n",
    "        return out"
   ]
  },
  {
   "cell_type": "code",
   "execution_count": null,
   "id": "dfdf6553",
   "metadata": {},
   "outputs": [],
   "source": []
  },
  {
   "cell_type": "code",
   "execution_count": 322,
   "id": "04cbecca",
   "metadata": {},
   "outputs": [],
   "source": [
    "\n",
    "model = fcn_model(in_dim=in_dim)"
   ]
  },
  {
   "cell_type": "code",
   "execution_count": 323,
   "id": "3b4573ae",
   "metadata": {},
   "outputs": [],
   "source": [
    "# build a data loader \n",
    "class MyDataset(data.Dataset):\n",
    "    def __init__(self, X, label):\n",
    "        self.X = torch.from_numpy(X).float()\n",
    "        self.label = torch.from_numpy(label).float()\n",
    "    \n",
    "    def __getitem__(self, index):\n",
    "        x = self.X[index]\n",
    "        y = self.label[index]\n",
    "        return x, y\n",
    "    \n",
    "    def __len__(self):\n",
    "        return len(self.X)\n",
    "    \n",
    "\n",
    "def get_dataloader(X, label, batch_size, test_size=0.2):    \n",
    "    # shuffle data\n",
    "    idx = np.arange(len(X))\n",
    "    np.random.shuffle(idx)\n",
    "    X, label = X[idx], label[idx]\n",
    "    \n",
    "    # divide data for train and validation\n",
    "    nb_train = int((1-test_size)*len(X))\n",
    "    trainset = MyDataset(X[:nb_train], label[:nb_train])\n",
    "    testset = MyDataset(X[nb_train:], label[nb_train:])\n",
    "    \n",
    "    dataloaders = {\n",
    "        'train': data.DataLoader(trainset, batch_size=batch_size, shuffle=True), \n",
    "        'val': data.DataLoader(testset, batch_size=batch_size, shuffle=True)\n",
    "    }\n",
    "    return dataloaders"
   ]
  },
  {
   "cell_type": "code",
   "execution_count": 324,
   "id": "9c7bca93",
   "metadata": {},
   "outputs": [],
   "source": [
    "# build a function to train and val your model\n",
    "def train_model(model, dataloaders, criterion, optimizer, num_epochs, device):\n",
    "    since = time.time()\n",
    "    \n",
    "    # a dictionary to record histroy of training\n",
    "    history = {'loss':[], 'val_loss':[], 'acc':[], 'val_acc':[]}\n",
    "    \n",
    "    model = model.to(device)\n",
    "    step_show = 10 ## each i*step_show print current loss\n",
    "    for epoch in range(num_epochs):\n",
    "        if epoch % step_show==0:\n",
    "            print('Epoch {0}/{1}'.format(epoch, num_epochs-1))\n",
    "            \n",
    "        # =====================================\n",
    "        # =============== train ===============\n",
    "        # =====================================\n",
    "        model.train()\n",
    "        running_loss, running_corrects = 0.0, 0.0\n",
    "        for i, (inputs, target) in enumerate(dataloaders['train']):\n",
    "            # put inputs and target to device \n",
    "            inputs = inputs.to(device).float()\n",
    "            target = target.to(device).float()\n",
    "            \n",
    "            # get outputs from the model and compute loss with respect to loss function \n",
    "            optimizer.zero_grad()\n",
    "            outputs = model(inputs)\n",
    "            loss = criterion(outputs, target)\n",
    "            \n",
    "            # back prop\n",
    "            loss.backward()\n",
    "            optimizer.step()\n",
    "\n",
    "            # compute loss and corrects of prediction in each batch of data\n",
    "            running_loss += loss.item() * inputs.size(0)\n",
    "#             running_corrects += torch.sum((outputs+.5).int().t()==target.data.int().t())\n",
    "            \n",
    "        # record loss and corrects of prediction at each epoch\n",
    "        epoch_loss = running_loss / len(dataloaders['train'].dataset)\n",
    "#         epoch_corrects = running_corrects.double() / len(dataloaders['train'].dataset)\n",
    "        history['loss'].append(epoch_loss)\n",
    "#         history['acc'].append(epoch_corrects)\n",
    "        \n",
    "\n",
    "        \n",
    "        #validate \n",
    "        # =====================================\n",
    "        # ============== validate =============\n",
    "        # =====================================\n",
    "        model.eval() #set the module in evaluation mode (eg. Dropout, batchnorm)\n",
    "        val_running_loss, val_running_corrects = 0.0, 0.0\n",
    "        for i, (inputs, target) in enumerate(dataloaders['val']):\n",
    "            inputs = inputs.to(device).float()\n",
    "            target = target.to(device).float()\n",
    "            outputs = model(inputs)\n",
    "            loss = criterion(outputs, target)\n",
    "            \n",
    "            val_running_loss += loss.item() * inputs.size(0)\n",
    "#             val_running_corrects += torch.sum((outputs+.5).int().t()==target.data.int().t())\n",
    "            \n",
    "        val_epoch_loss = val_running_loss / len(dataloaders['val'].dataset)\n",
    "#         val_epoch_corrects = val_running_corrects.double() / len(dataloaders['val'].dataset)\n",
    "        history['val_loss'].append(val_epoch_loss)\n",
    "#         history['val_acc'].append(val_epoch_corrects)\n",
    "        \n",
    "        # print epoch loss and corrects if its a step to print\n",
    "        if epoch % step_show==0:\n",
    "            print('Epoch Loss: {0:.6f}'\n",
    "                  .format(epoch_loss))\n",
    "            print('-'*10)\n",
    "            \n",
    "    # print total time for training\n",
    "    time_elapsed = time.time() - since\n",
    "    print('Training complete in {:.0f}m {:.0f}s'.format(time_elapsed // 60, time_elapsed % 60))\n",
    "    \n",
    "    return model, history"
   ]
  },
  {
   "cell_type": "code",
   "execution_count": 325,
   "id": "813b3293",
   "metadata": {},
   "outputs": [
    {
     "name": "stdout",
     "output_type": "stream",
     "text": [
      "Epoch 0/49\n",
      "Epoch Loss: 13.737434\n",
      "----------\n",
      "Epoch 10/49\n",
      "Epoch Loss: 13.593809\n",
      "----------\n",
      "Epoch 20/49\n",
      "Epoch Loss: 13.595167\n",
      "----------\n",
      "Epoch 30/49\n",
      "Epoch Loss: 13.599626\n",
      "----------\n",
      "Epoch 40/49\n",
      "Epoch Loss: 13.592912\n",
      "----------\n",
      "Training complete in 0m 2s\n"
     ]
    }
   ],
   "source": [
    "# setup parameters \n",
    "batch_size = 256\n",
    "num_epochs = 50\n",
    "test_size = 0.2\n",
    "\n",
    "# assert which device to compute in model\n",
    "device = torch.device(\"cpu\")\n",
    "# get your model here \n",
    "model = fcn_model(in_dim=in_dim)\n",
    "# get batched data for train and val\n",
    "dataloaders = get_dataloader(X=X, label=df_train[y].to_numpy(), batch_size=batch_size, test_size=test_size)\n",
    "# define your loss function\n",
    "criterion = nn.MSELoss()\n",
    "# choose an optimizer to do gradient descent \n",
    "optimizer = torch.optim.Adam(model.parameters(),\n",
    "                            lr=0.001,\n",
    "                            betas=(0.9, 0.999),\n",
    "                            eps=1e-8,\n",
    "                            weight_decay=1e-5)\n",
    "\n",
    "# train your model, get trained model and history of training\n",
    "model, history = train_model(model=model, \n",
    "                             dataloaders=dataloaders, \n",
    "                             optimizer=optimizer, \n",
    "                             criterion=criterion, \n",
    "                             num_epochs=num_epochs, \n",
    "                             device=device)\n"
   ]
  },
  {
   "cell_type": "code",
   "execution_count": null,
   "id": "21a43504",
   "metadata": {},
   "outputs": [],
   "source": []
  },
  {
   "cell_type": "code",
   "execution_count": 326,
   "id": "27f7cd5f",
   "metadata": {},
   "outputs": [],
   "source": [
    "\n",
    "model.eval()\n",
    "a_out = model(torch.from_numpy(df_test[features].to_numpy()).float()).detach().numpy()\n",
    "# b_out = model(torch.from_numpy(b_test).float()).detach().numpy()"
   ]
  },
  {
   "cell_type": "code",
   "execution_count": 327,
   "id": "6157e2bb",
   "metadata": {},
   "outputs": [],
   "source": [
    "# df_test['q2Pred'] = a_out\n",
    "\n",
    "df_test['q2PullPred'] = a_out\n",
    "df_test['q2Pred'] = df_test['q2PullPred']*df_test['q2']"
   ]
  },
  {
   "cell_type": "code",
   "execution_count": null,
   "id": "aa0a1711",
   "metadata": {},
   "outputs": [],
   "source": []
  },
  {
   "cell_type": "code",
   "execution_count": 332,
   "id": "a321d199",
   "metadata": {},
   "outputs": [
    {
     "data": {
      "text/plain": [
       "<matplotlib.legend.Legend at 0x7f6b557bb130>"
      ]
     },
     "execution_count": 332,
     "metadata": {},
     "output_type": "execute_result"
    },
    {
     "data": {
      "image/png": "[encoded data removed]",
      "text/plain": [
       "<Figure size 576x432 with 1 Axes>"
      ]
     },
     "metadata": {
      "needs_background": "light"
     },
     "output_type": "display_data"
    }
   ],
   "source": [
    "\n",
    "f = plt.figure(figsize=(8,6))\n",
    "ax1 = plt.subplot(111)\n",
    "\n",
    "# range_=[-10, 10]\n",
    "range_=[-5, 5]\n",
    "# range_=[-1, 1]\n",
    "# range_=None\n",
    "bins_=50\n",
    "\n",
    "\n",
    "\n",
    "ax1.hist(df_test[df_test.target==1].q2, bins=bins_, range=range_, histtype='step', lw=3, label=r'base: error='+str(round(np.std(df_test[(df_test.q2>range_[0]) & (df_test.q2<range_[1])]['q2']), 2)), alpha=0.5);\n",
    "ax1.hist(df_test[df_test.target==1].q2Pred, bins=bins_, range=range_, histtype='step', lw=3, label=r'DNN: error='+str(round(np.std(df_test[(df_test.q2Pred>range_[0]) & (df_test.q2Pred<range_[1])]['q2Pred']), 2)), alpha=0.5);\n",
    "\n",
    "# plt.title(r\"$\\Lambda_b \\to p K a$\")\n",
    "plt.title(r\"$\\Lambda_b\\to 3\\pi p \\Lambda_c (\\to p  a)$\")\n",
    "plt.legend()"
   ]
  },
  {
   "cell_type": "code",
   "execution_count": null,
   "id": "a497e4fd",
   "metadata": {},
   "outputs": [],
   "source": []
  },
  {
   "cell_type": "code",
   "execution_count": null,
   "id": "ffac3d20",
   "metadata": {},
   "outputs": [],
   "source": []
  },
  {
   "cell_type": "code",
   "execution_count": null,
   "id": "0debc5bb",
   "metadata": {},
   "outputs": [],
   "source": []
  }
 ],
 "metadata": {
  "kernelspec": {
   "display_name": "Python 3 (ipykernel)",
   "language": "python",
   "name": "python3"
  },
  "language_info": {
   "codemirror_mode": {
    "name": "ipython",
    "version": 3
   },
   "file_extension": ".py",
   "mimetype": "text/x-python",
   "name": "python",
   "nbconvert_exporter": "python",
   "pygments_lexer": "ipython3",
   "version": "3.9.12"
  }
 },
 "nbformat": 4,
 "nbformat_minor": 5
}
